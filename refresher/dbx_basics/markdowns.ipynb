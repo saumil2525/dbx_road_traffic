{
 "cells": [
  {
   "cell_type": "markdown",
   "metadata": {
    "application/vnd.databricks.v1+cell": {
     "cellMetadata": {},
     "inputWidgets": {},
     "nuid": "a69f9acf-d109-432a-a8d0-a0fd485f4141",
     "showTitle": false,
     "title": ""
    }
   },
   "source": [
    "### Heading 3\n",
    "#### Heading 4\n",
    "##### Heading 5\n",
    "###### Heading 6\n",
    "\n",
    "####### Heading 7"
   ]
  },
  {
   "cell_type": "markdown",
   "metadata": {
    "application/vnd.databricks.v1+cell": {
     "cellMetadata": {
      "byteLimit": 2048000,
      "rowLimit": 10000
     },
     "inputWidgets": {},
     "nuid": "cd6141f8-f3eb-4b75-85e2-d631bbfa2fdb",
     "showTitle": false,
     "title": ""
    }
   },
   "source": [
    "# This is a comment"
   ]
  },
  {
   "cell_type": "markdown",
   "metadata": {
    "application/vnd.databricks.v1+cell": {
     "cellMetadata": {},
     "inputWidgets": {},
     "nuid": "abae53c9-abc4-4100-8692-416d46800d06",
     "showTitle": false,
     "title": ""
    }
   },
   "source": [
    "\n",
    "1. HTML Style <b> Blod </b>\n",
    "2. Astricks style **Blod**"
   ]
  },
  {
   "cell_type": "markdown",
   "metadata": {
    "application/vnd.databricks.v1+cell": {
     "cellMetadata": {},
     "inputWidgets": {},
     "nuid": "136fbc25-25c3-4724-b8d7-aa22cd60ea99",
     "showTitle": false,
     "title": ""
    }
   },
   "source": [
    "\n",
    "*Italics* style"
   ]
  },
  {
   "cell_type": "markdown",
   "metadata": {
    "application/vnd.databricks.v1+cell": {
     "cellMetadata": {},
     "inputWidgets": {},
     "nuid": "f05832a5-33a5-4cff-b29f-5c8bd33592ac",
     "showTitle": false,
     "title": ""
    }
   },
   "source": [
    "\n",
    "`print(df)` is the statement to print something\n",
    "\n",
    "```\n",
    "This \n",
    "is  multiline\n",
    "code \n",
    "```"
   ]
  },
  {
   "cell_type": "markdown",
   "metadata": {
    "application/vnd.databricks.v1+cell": {
     "cellMetadata": {},
     "inputWidgets": {},
     "nuid": "8d268d1f-6516-4c78-b130-b64c7da7dc73",
     "showTitle": false,
     "title": ""
    }
   },
   "source": [
    "\n",
    "- one\n",
    "- two\n",
    "- three"
   ]
  },
  {
   "cell_type": "markdown",
   "metadata": {
    "application/vnd.databricks.v1+cell": {
     "cellMetadata": {},
     "inputWidgets": {},
     "nuid": "ea7a9677-53bd-4551-b1e8-9f89e15a0c03",
     "showTitle": false,
     "title": ""
    }
   },
   "source": [
    "To highlight something\n",
    "\n",
    "<span style=\"background-color: #FFFF00\"> Highlight this </span>"
   ]
  },
  {
   "cell_type": "markdown",
   "metadata": {
    "application/vnd.databricks.v1+cell": {
     "cellMetadata": {},
     "inputWidgets": {},
     "nuid": "2c477351-9470-4b26-8f73-6f967c37729e",
     "showTitle": false,
     "title": ""
    }
   },
   "source": [
    "![Profile Pic](https://media.licdn.com/dms/image/C4E03AQGx8W5WMxE5pw/profile-displayphoto-shrink_400_400/0/1594735450010?e=1705536000&v=beta&t=_he0R75U4AKYCbcLgDRDakzKvYZybksWRoqYvDL-alA)"
   ]
  },
  {
   "cell_type": "markdown",
   "metadata": {
    "application/vnd.databricks.v1+cell": {
     "cellMetadata": {},
     "inputWidgets": {},
     "nuid": "360b2b5f-3830-49d7-826a-edecb5581ba1",
     "showTitle": false,
     "title": ""
    }
   },
   "source": [
    "Click on [Profile Pic](https://media.licdn.com/dms/image/C4E03AQGx8W5WMxE5pw/profile-displayphoto-shrink_400_400/0/1594735450010?e=1705536000&v=beta&t=_he0R75U4AKYCbcLgDRDakzKvYZybksWRoqYvDL-alA)"
   ]
  }
 ],
 "metadata": {
  "application/vnd.databricks.v1+notebook": {
   "dashboards": [],
   "language": "python",
   "notebookMetadata": {
    "pythonIndentUnit": 4
   },
   "notebookName": "01. Understanding notebook and markdowns",
   "widgets": {}
  },
  "language_info": {
   "name": "python"
  }
 },
 "nbformat": 4,
 "nbformat_minor": 0
}
